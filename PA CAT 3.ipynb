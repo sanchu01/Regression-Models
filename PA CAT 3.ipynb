{
 "cells": [
  {
   "cell_type": "code",
   "execution_count": 1,
   "metadata": {},
   "outputs": [
    {
     "name": "stdout",
     "output_type": "stream",
     "text": [
      "    year  month  day     dep_time  sched_dep_time  dep_delay     arr_time  \\\n",
      "0   2013      2   26   6:07:00 PM            1630         97   7:56:00 PM   \n",
      "1   2013      8   17   2:59:00 PM            1445         14   6:01:00 PM   \n",
      "2   2013      2   13   6:12:00 PM            1815         -3   8:55:00 PM   \n",
      "3   2013      4   11   9:22:00 PM            2115          7  11:39:00 PM   \n",
      "4   2013      8    5   6:32:00 PM            1835         -3   9:45:00 PM   \n",
      "5   2013      6   30   3:00:00 PM            1505         -5   5:51:00 PM   \n",
      "6   2013      2   14   2:42:00 PM            1445         -3   6:33:00 PM   \n",
      "7   2013      7   25   7:52:00 AM             755         -3  10:37:00 AM   \n",
      "8   2013      7   10   5:57:00 AM             600         -3   7:25:00 AM   \n",
      "9   2013     12   13   7:07:00 PM            1915         -8   9:55:00 PM   \n",
      "10  2013      1   28   2:55:00 PM            1500         -5   4:47:00 PM   \n",
      "11  2013      9    6   9:03:00 AM             912         -9  10:51:00 AM   \n",
      "12  2013      4    8   6:25:00 AM             600         -7   8:24:00 AM   \n",
      "13  2013      5   12   8:23:00 AM             630         -5  10:06:00 AM   \n",
      "14  2013      9   14   6:49:00 AM             829         -6   9:38:00 AM   \n",
      "15  2013      5   11  10:11:00 PM             700        -11   4:08:00 AM   \n",
      "16  2013      7   29   6:57:00 AM            2155         16   8:06:00 AM   \n",
      "17  2013      1    2   6:39:00 AM             700         -3  10:41:00 AM   \n",
      "18  2013      7   27   1:28:00 PM             640         -1   3:49:00 PM   \n",
      "19  2013      2    9   6:59:00 PM            1330         -2   8:30:00 PM   \n",
      "20  2013      5    2   4:21:00 PM            1900         -1   5:43:00 PM   \n",
      "21  2013      9   17   7:34:00 AM            1627         -6  10:51:00 AM   \n",
      "22  2013      2   23  10:53:00 AM             740         -6  12:09:00 PM   \n",
      "23  2013      1   13  12:03:00 PM            1100         -7   3:15:00 PM   \n",
      "24  2013      4    5   8:06:00 AM            1144         19  10:14:00 AM   \n",
      "25  2013      6   16   6:25:00 AM             804          2   8:15:00 AM   \n",
      "26  2013      9    5   9:34:00 PM             630         -5  11:26:00 PM   \n",
      "27  2013      1   30   8:36:00 PM            1815        199  11:59:00 PM   \n",
      "28  2013     11   20   7:15:00 AM            2040         -4   9:46:00 AM   \n",
      "29  2013     11   13   3:06:00 PM             725        -10   4:41:00 PM   \n",
      "..   ...    ...  ...          ...             ...        ...          ...   \n",
      "69  2013     12   19   5:59:00 AM            1520         37   8:29:00 AM   \n",
      "70  2013     11   21   5:55:00 PM             600         -1   8:32:00 PM   \n",
      "71  2013      5   30   1:37:00 PM            1629         86   4:26:00 PM   \n",
      "72  2013      3   19   1:49:00 PM            1249         48   4:20:00 PM   \n",
      "73  2013      1   14   7:39:00 PM            1350         -1   8:34:00 PM   \n",
      "74  2013      9   14   4:51:00 PM            1945         -6   7:57:00 PM   \n",
      "75  2013      2   18   2:50:00 PM            1655         -4   4:39:00 PM   \n",
      "76  2013      7   14   6:53:00 AM            1455         -5   9:31:00 AM   \n",
      "77  2013     10   21   7:21:00 AM             659         -6  10:19:00 AM   \n",
      "78  2013      2   26   6:02:00 PM             732        -11   8:47:00 PM   \n",
      "79  2013      5   26   2:34:00 PM            1810         -8   4:19:00 PM   \n",
      "80  2013      1    6   3:17:00 PM            1425          9   4:51:00 PM   \n",
      "81  2013      2   16   6:46:00 PM            1520         -3   8:51:00 PM   \n",
      "82  2013      3   17   6:21:00 PM            1855         -9   9:03:00 PM   \n",
      "83  2013     11   30  11:11:00 PM            1804         17   1:55:00 AM   \n",
      "84  2013      7    1  12:00:00 AM            1916        235  12:00:00 AM   \n",
      "85  2013     10   30  10:00:00 AM            1734         -4  11:17:00 AM   \n",
      "86  2013      2   15   7:15:00 PM            1000          0   9:53:00 PM   \n",
      "87  2013      1   12   7:01:00 PM            1920         -5  11:44:00 PM   \n",
      "88  2013     12   13   9:09:00 PM            1900          1  12:00:00 AM   \n",
      "89  2013      9   12   8:17:00 PM            1910        119  10:36:00 PM   \n",
      "90  2013      7   29  12:34:00 PM            1929         48   3:56:00 PM   \n",
      "91  2013      2   20   9:50:00 AM            1240         -6  12:02:00 PM   \n",
      "92  2013      6   20   8:01:00 PM             950          0  10:48:00 PM   \n",
      "93  2013      1   23  11:29:00 AM            2005         -4   2:14:00 PM   \n",
      "94  2013     11   29  10:29:00 AM            1135         -6   1:00:00 PM   \n",
      "95  2013      3   10   5:24:00 PM            1029          0   6:28:00 PM   \n",
      "96  2013     11   25   9:30:00 AM            1725         -1   2:21:00 PM   \n",
      "97  2013      3    5   6:26:00 AM             929          1   8:58:00 AM   \n",
      "98  2013      5   21          NaN             630         -4          NaN   \n",
      "\n",
      "    sched_arr_time  arr_delay carrier  flight tailnum origin dest  air_time  \\\n",
      "0             1837         79      EV    4411  N13566    EWR  MEM       144   \n",
      "1             1747         14      B6    1171  N661JB    LGA  FLL       147   \n",
      "2             2125        -30      AS       7  N403AS    EWR  SEA       315   \n",
      "3             2353        -14      B6      97  N656JB    JFK  DEN       221   \n",
      "4             2155        -10      AA     269  N3EYAA    JFK  SEA       358   \n",
      "5             1650         61      UA     685  N424UA    LGA  ORD       116   \n",
      "6             1747         46      UA     346  N446UA    EWR  MIA       200   \n",
      "7             1057        -20      DL    2395  N909DL    LGA  PBI       140   \n",
      "8              715         10      MQ    3267  N542MQ    EWR  ORD       113   \n",
      "9             2219        -24      DL    2159  N909DE    JFK  MCO       138   \n",
      "10            1655         -8      MQ    4429  N734MQ    LGA  CMH        83   \n",
      "11            1115        -24      EV    4348  N12163    EWR  MSP       138   \n",
      "12             724        -27      EV    5689  N825AS    LGA  IAD        48   \n",
      "13             832         -8      US    1433  N188US    LGA  CLT        98   \n",
      "14            1017        -11      DL    1157  N324US    EWR  MSP       139   \n",
      "15            1006        -28      DL    2003  N317US    LGA  MIA       153   \n",
      "16              43          5      B6     425  N656JB    JFK  TPA       129   \n",
      "17             809         -3      US    2163  N945UW    LGA  DCA        46   \n",
      "18            1040          1      AA     413  N3FYAA    JFK  SJU       207   \n",
      "19            1603        -14      DL    2043  N3761R    JFK  ATL       108   \n",
      "20            2048        -18      EV    5038  N719EV    LGA  BHM       119   \n",
      "21            1754        -11      EV    6101  N14905    LGA  IAD        47   \n",
      "22            1044          7      B6     341  N632JB    JFK  SRQ       167   \n",
      "23            1215         -6      MQ    3792  N510MQ    JFK  DCA        57   \n",
      "24            1444         31      UA     684  N407UA    EWR  TPA       160   \n",
      "25            1013          1      EV    4304  N11150    EWR  MSY       161   \n",
      "26             840        -25      US    2085  N563UW    LGA  CLT        84   \n",
      "27            2037        169      9E    3424  N909XJ    JFK  DTW        85   \n",
      "28            2359          0      B6     523  N796JB    JFK  LAX       346   \n",
      "29            1002        -16      B6     677  N273JB    JFK  JAX       124   \n",
      "..             ...        ...     ...     ...     ...    ...  ...       ...   \n",
      "69            1705         34      AA     341  N3BKAA    LGA  ORD       130   \n",
      "70             825          4      WN    1716  N276WN    LGA  ATL       121   \n",
      "71            1927         65      B6     985  N793JB    LGA  TPA       135   \n",
      "72            1539         47      B6     991  N635JB    JFK  PBI       155   \n",
      "73            1624         -4      B6     615  N316JB    JFK  JAX       123   \n",
      "74            2105        -31      UA    1532  N38424    EWR  BOS        39   \n",
      "75            2030        -33      VX     413  N642VA    JFK  LAX       349   \n",
      "76            1701        -22      9E    4120  N8903A    JFK  CLE        72   \n",
      "77             955        -24      UA     537  N459UA    EWR  PBI       140   \n",
      "78            1038        -19      UA     630  N401UA    LGA  IAH       212   \n",
      "79            2110        -23      DL    2370  N3730B    LGA  PBI       129   \n",
      "80            1630        -11      EV    5164  N712EV    EWR  MSP       151   \n",
      "81            1653         -2      9E    4105  N839AY    JFK  IAD        55   \n",
      "82            2100         -9      US    1491  N543UW    LGA  CLT        95   \n",
      "83            2130        -27      UA    1735  N37437    EWR  LAX       319   \n",
      "84            2214        221      B6     883  N507JB    JFK  MCO       140   \n",
      "85            2046         -5      UA     418  N509UA    EWR  SFO       337   \n",
      "86            1139        -22      UA     434  N423UA    LGA  ORD       114   \n",
      "87            2246        -53      DL      83  N398DA    JFK  FLL       138   \n",
      "88            2359        -15      AA    1029  N5CPAA    JFK  SJU       190   \n",
      "89            2215        114      AA      21  N335AA    JFK  LAX       322   \n",
      "90            2212         24      DL    2041  N358NW    JFK  ATL        97   \n",
      "91            1540         16      AA    1853  N484AA    EWR  DFW       227   \n",
      "92            1205         -3      MQ    3644  N534MQ    LGA  ATL       106   \n",
      "93            2258        -10      UA     405  N402UA    EWR  MCO       136   \n",
      "94            1436        -22      DL    1875  N342NB    LGA  TPA       147   \n",
      "95            1344        -44      UA    1605  N37465    EWR  LAX       308   \n",
      "96            1845        -17      AA     256  N3CTAA    JFK  BOS        40   \n",
      "97            1426         -5      B6     215  N638JB    EWR  SJU       200   \n",
      "98             918        -20      UA     490  N447UA    LGA  IAH       189   \n",
      "\n",
      "    distance  \n",
      "0        946  \n",
      "1       1076  \n",
      "2       2402  \n",
      "3       1626  \n",
      "4       2422  \n",
      "5        733  \n",
      "6       1085  \n",
      "7       1035  \n",
      "8        719  \n",
      "9        944  \n",
      "10       479  \n",
      "11      1008  \n",
      "12       229  \n",
      "13       544  \n",
      "14      1008  \n",
      "15      1096  \n",
      "16      1005  \n",
      "17       214  \n",
      "18      1598  \n",
      "19       760  \n",
      "20       866  \n",
      "21       229  \n",
      "22      1041  \n",
      "23       213  \n",
      "24       997  \n",
      "25      1167  \n",
      "26       544  \n",
      "27       509  \n",
      "28      2475  \n",
      "29       828  \n",
      "..       ...  \n",
      "69       733  \n",
      "70       762  \n",
      "71      1010  \n",
      "72      1028  \n",
      "73       828  \n",
      "74       200  \n",
      "75      2475  \n",
      "76       425  \n",
      "77      1023  \n",
      "78      1416  \n",
      "79      1035  \n",
      "80      1008  \n",
      "81       228  \n",
      "82       544  \n",
      "83      2454  \n",
      "84       944  \n",
      "85      2565  \n",
      "86       733  \n",
      "87      1069  \n",
      "88      1598  \n",
      "89      2475  \n",
      "90       760  \n",
      "91      1372  \n",
      "92       762  \n",
      "93       937  \n",
      "94      1010  \n",
      "95      2454  \n",
      "96       187  \n",
      "97      1608  \n",
      "98      1416  \n",
      "\n",
      "[99 rows x 16 columns]\n"
     ]
    }
   ],
   "source": [
    "import numpy as np\n",
    "import pandas as pd\n",
    "import matplotlib.pyplot as plt\n",
    "from sklearn.preprocessing import StandardScaler\n",
    "from sklearn.decomposition import PCA\n",
    "from sklearn.cluster import KMeans\n",
    "from sklearn import linear_model\n",
    "import statsmodels.api as sm\n",
    "from statsmodels.formula.api import ols\n",
    "import plotly.express as ax\n",
    "import seaborn as seabornInstance \n",
    "from sklearn.model_selection import train_test_split \n",
    "from sklearn.linear_model import LinearRegression\n",
    "from sklearn import metrics\n",
    "%matplotlib inline\n",
    "\n",
    "data=pd.read_csv(\"dataa.csv\")\n",
    "print(data)"
   ]
  },
  {
   "cell_type": "markdown",
   "metadata": {},
   "source": [
    "#      DATA REDUCTION USING PRINCIPAL COMPONENT ANALYSIS (PCA)"
   ]
  },
  {
   "cell_type": "code",
   "execution_count": 2,
   "metadata": {},
   "outputs": [
    {
     "name": "stderr",
     "output_type": "stream",
     "text": [
      "C:\\Users\\admin\\Anaconda3\\lib\\site-packages\\sklearn\\utils\\validation.py:595: DataConversionWarning:\n",
      "\n",
      "Data with input dtype int64 was converted to float64 by StandardScaler.\n",
      "\n",
      "C:\\Users\\admin\\Anaconda3\\lib\\site-packages\\sklearn\\utils\\validation.py:595: DataConversionWarning:\n",
      "\n",
      "Data with input dtype int64 was converted to float64 by StandardScaler.\n",
      "\n"
     ]
    }
   ],
   "source": [
    "features = ['sched_dep_time','dep_delay','sched_arr_time','arr_delay','air_time','distance']\n",
    "\n",
    "x = data.loc[:,features].values\n",
    "y = data.loc[:,['origin']].values\n",
    "\n",
    "x = StandardScaler().fit_transform(x)"
   ]
  },
  {
   "cell_type": "code",
   "execution_count": 3,
   "metadata": {},
   "outputs": [
    {
     "data": {
      "text/html": [
       "<div>\n",
       "<style scoped>\n",
       "    .dataframe tbody tr th:only-of-type {\n",
       "        vertical-align: middle;\n",
       "    }\n",
       "\n",
       "    .dataframe tbody tr th {\n",
       "        vertical-align: top;\n",
       "    }\n",
       "\n",
       "    .dataframe thead th {\n",
       "        text-align: right;\n",
       "    }\n",
       "</style>\n",
       "<table border=\"1\" class=\"dataframe\">\n",
       "  <thead>\n",
       "    <tr style=\"text-align: right;\">\n",
       "      <th></th>\n",
       "      <th>PC1</th>\n",
       "      <th>PC2</th>\n",
       "      <th>PC3</th>\n",
       "      <th>PC4</th>\n",
       "      <th>PC5</th>\n",
       "      <th>origin</th>\n",
       "    </tr>\n",
       "  </thead>\n",
       "  <tbody>\n",
       "    <tr>\n",
       "      <th>0</th>\n",
       "      <td>1.949853</td>\n",
       "      <td>2.422058</td>\n",
       "      <td>0.934427</td>\n",
       "      <td>0.066779</td>\n",
       "      <td>-0.250057</td>\n",
       "      <td>EWR</td>\n",
       "    </tr>\n",
       "    <tr>\n",
       "      <th>1</th>\n",
       "      <td>0.463648</td>\n",
       "      <td>0.274560</td>\n",
       "      <td>-0.130544</td>\n",
       "      <td>-0.121059</td>\n",
       "      <td>0.098098</td>\n",
       "      <td>LGA</td>\n",
       "    </tr>\n",
       "    <tr>\n",
       "      <th>2</th>\n",
       "      <td>2.343882</td>\n",
       "      <td>-2.556317</td>\n",
       "      <td>-0.126131</td>\n",
       "      <td>0.121054</td>\n",
       "      <td>-0.227473</td>\n",
       "      <td>EWR</td>\n",
       "    </tr>\n",
       "    <tr>\n",
       "      <th>3</th>\n",
       "      <td>2.097830</td>\n",
       "      <td>-0.946093</td>\n",
       "      <td>-1.187203</td>\n",
       "      <td>0.110918</td>\n",
       "      <td>-0.107189</td>\n",
       "      <td>JFK</td>\n",
       "    </tr>\n",
       "    <tr>\n",
       "      <th>4</th>\n",
       "      <td>2.779258</td>\n",
       "      <td>-2.564467</td>\n",
       "      <td>0.216424</td>\n",
       "      <td>0.032638</td>\n",
       "      <td>0.210191</td>\n",
       "      <td>JFK</td>\n",
       "    </tr>\n",
       "  </tbody>\n",
       "</table>\n",
       "</div>"
      ],
      "text/plain": [
       "        PC1       PC2       PC3       PC4       PC5 origin\n",
       "0  1.949853  2.422058  0.934427  0.066779 -0.250057    EWR\n",
       "1  0.463648  0.274560 -0.130544 -0.121059  0.098098    LGA\n",
       "2  2.343882 -2.556317 -0.126131  0.121054 -0.227473    EWR\n",
       "3  2.097830 -0.946093 -1.187203  0.110918 -0.107189    JFK\n",
       "4  2.779258 -2.564467  0.216424  0.032638  0.210191    JFK"
      ]
     },
     "execution_count": 3,
     "metadata": {},
     "output_type": "execute_result"
    }
   ],
   "source": [
    "pca = PCA(n_components=5)\n",
    "principalComponents = pca.fit_transform(x)\n",
    "principalDf = pd.DataFrame(data = principalComponents, columns = ['PC1', 'PC2', 'PC3', 'PC4','PC5'])\n",
    "\n",
    "finalDf = pd.concat([principalDf, data['origin']], axis = 1)\n",
    "finalDf.head()"
   ]
  },
  {
   "cell_type": "code",
   "execution_count": 4,
   "metadata": {},
   "outputs": [
    {
     "data": {
      "image/png": "[encoded data removed]",
      "text/plain": [
       "<Figure size 432x288 with 1 Axes>"
      ]
     },
     "metadata": {
      "needs_background": "light"
     },
     "output_type": "display_data"
    }
   ],
   "source": [
    "per_var = np.round(pca.explained_variance_ratio_* 100, decimals =2)\n",
    "labels = ['PC'+str(x) for x in range(1, len(per_var)+1)]\n",
    "\n",
    "plt.bar(x = range(1,len(per_var)+1),height = per_var, tick_label = labels)\n",
    "plt.ylabel('Percentage of Explained Variance')\n",
    "plt.xlabel('Principal Components')\n",
    "plt.title('Screen plot')\n",
    "plt.show()"
   ]
  },
  {
   "cell_type": "code",
   "execution_count": 5,
   "metadata": {},
   "outputs": [
    {
     "data": {
      "text/plain": [
       "array(['EWR', 'LGA', 'JFK'], dtype=object)"
      ]
     },
     "execution_count": 5,
     "metadata": {},
     "output_type": "execute_result"
    }
   ],
   "source": [
    "finalDf['origin'].unique()"
   ]
  },
  {
   "cell_type": "code",
   "execution_count": 6,
   "metadata": {},
   "outputs": [
    {
     "data": {
      "image/png": "[encoded data removed]",
      "text/plain": [
       "<Figure size 720x720 with 1 Axes>"
      ]
     },
     "metadata": {
      "needs_background": "light"
     },
     "output_type": "display_data"
    }
   ],
   "source": [
    "fig = plt.figure(figsize = (10,10))\n",
    "ax = fig.add_subplot(1,1,1) \n",
    "ax.set_xlabel('PC1')\n",
    "ax.set_ylabel('PC2')\n",
    "\n",
    "ax.set_title('Plot of PC1 vs PC2', fontsize = 20)\n",
    "\n",
    "targets = ['EWR', 'LGA', 'JFK']\n",
    "       \n",
    "\n",
    "colors = ['r', 'g', 'b']\n",
    "\n",
    "for origin, color in zip(targets,colors):\n",
    "    indicesToKeep = finalDf['origin'] == origin \n",
    "    ax.scatter(finalDf.loc[indicesToKeep, 'PC1'] ,\n",
    "                finalDf.loc[indicesToKeep, 'PC2'] ,\n",
    "                c = color ,\n",
    "                s = 50)\n",
    "    \n",
    "ax.legend(targets)\n",
    "ax.grid()"
   ]
  },
  {
   "cell_type": "code",
   "execution_count": 7,
   "metadata": {},
   "outputs": [
    {
     "data": {
      "text/plain": [
       "array([0.41143797, 0.32358921, 0.22958406, 0.01868568, 0.01537129])"
      ]
     },
     "execution_count": 7,
     "metadata": {},
     "output_type": "execute_result"
    }
   ],
   "source": [
    "pca.explained_variance_ratio_"
   ]
  },
  {
   "cell_type": "markdown",
   "metadata": {},
   "source": [
    "The Variances obtained by the Principal Component analysis (PCA) Method classified according to the decreased order."
   ]
  },
  {
   "cell_type": "markdown",
   "metadata": {},
   "source": [
    "#                                         CLUSTERING ANALYSIS"
   ]
  },
  {
   "cell_type": "code",
   "execution_count": 8,
   "metadata": {},
   "outputs": [
    {
     "name": "stdout",
     "output_type": "stream",
     "text": [
      "[5 5 2 3 2 5 5 4 4 3 0 4 4 4 4 4 4 4 1 5 3 0 4 4 5 4 4 0 2 4 0 3 4 3 5 3 4\n",
      " 5 3 4 4 3 1 5 5 5 5 1 0 4 0 4 3 4 4 3 4 4 4 1 4 5 2 4 5 4 0 5 0 5 4 3 5 5\n",
      " 0 2 0 4 1 3 5 0 0 2 3 2 4 3 3 2 3 5 4 3 5 1 0 1 1]\n"
     ]
    },
    {
     "data": {
      "text/plain": [
       "array([[ 1.71153846e+03,  1.26923077e+01,  1.88638462e+03,\n",
       "         1.92307692e+00,  6.80000000e+01,  3.85230769e+02],\n",
       "       [ 7.76625000e+02, -2.37500000e+00,  1.11750000e+03,\n",
       "        -1.33750000e+01,  2.50125000e+02,  1.86650000e+03],\n",
       "       [ 1.85225000e+03,  1.73750000e+01,  2.17500000e+03,\n",
       "         1.75000000e+00,  3.35375000e+02,  2.46787500e+03],\n",
       "       [ 1.91223529e+03,  2.14117647e+01,  2.19047059e+03,\n",
       "         8.70588235e+00,  1.47117647e+02,  1.05270588e+03],\n",
       "       [ 8.28093750e+02, -1.21875000e+00,  9.68656250e+02,\n",
       "        -6.65625000e+00,  1.14468750e+02,  7.52093750e+02],\n",
       "       [ 1.37442857e+03,  9.90476190e+00,  1.62700000e+03,\n",
       "         1.15714286e+01,  1.54047619e+02,  1.00223810e+03]])"
      ]
     },
     "execution_count": 8,
     "metadata": {},
     "output_type": "execute_result"
    }
   ],
   "source": [
    "x = data.iloc[:, [4,5,7,8,14,15]].values\n",
    "\n",
    "kmeans6 = KMeans(n_clusters=6)\n",
    "y_kmeans6 = kmeans6.fit_predict(x)\n",
    "print(y_kmeans6)\n",
    "\n",
    "kmeans6.cluster_centers_"
   ]
  },
  {
   "cell_type": "code",
   "execution_count": 9,
   "metadata": {},
   "outputs": [
    {
     "data": {
      "text/plain": [
       "<matplotlib.collections.PathCollection at 0x1b99209d198>"
      ]
     },
     "execution_count": 9,
     "metadata": {},
     "output_type": "execute_result"
    },
    {
     "data": {
      "image/png": "[encoded data removed]",
      "text/plain": [
       "<Figure size 432x288 with 1 Axes>"
      ]
     },
     "metadata": {
      "needs_background": "light"
     },
     "output_type": "display_data"
    }
   ],
   "source": [
    "plt.scatter(x[:,4], x[:,5], c=y_kmeans6,cmap='rainbow')"
   ]
  },
  {
   "cell_type": "markdown",
   "metadata": {},
   "source": [
    "This is the graph obtained when K-Means = 6 which is assumed according to the variables."
   ]
  },
  {
   "cell_type": "code",
   "execution_count": 10,
   "metadata": {},
   "outputs": [
    {
     "data": {
      "image/png": "[encoded data removed]",
      "text/plain": [
       "<Figure size 432x288 with 1 Axes>"
      ]
     },
     "metadata": {
      "needs_background": "light"
     },
     "output_type": "display_data"
    }
   ],
   "source": [
    "Error =[]\n",
    "for i in range(1, 11):\n",
    "    kmeans = KMeans(n_clusters = i).fit(x)\n",
    "    kmeans.fit(x)\n",
    "    Error.append(kmeans.inertia_)\n",
    "import matplotlib.pyplot as plt\n",
    "plt.plot(range(1, 11), Error)\n",
    "plt.title('Elbow method')\n",
    "plt.xlabel('No of clusters')\n",
    "plt.ylabel('Error')\n",
    "plt.show()"
   ]
  },
  {
   "cell_type": "markdown",
   "metadata": {},
   "source": [
    "This method is used to find the approximate K-Mean value by visualization."
   ]
  },
  {
   "cell_type": "code",
   "execution_count": 11,
   "metadata": {},
   "outputs": [
    {
     "name": "stdout",
     "output_type": "stream",
     "text": [
      "[2 2 1 1 1 2 2 0 0 2 2 0 0 0 0 0 0 0 0 2 2 2 0 0 0 0 0 2 1 0 2 2 0 2 1 2 0\n",
      " 2 2 0 0 2 1 2 0 2 2 1 2 0 2 0 2 0 0 2 0 0 0 0 0 2 1 0 2 0 2 2 2 2 0 2 2 2\n",
      " 2 1 2 0 0 2 2 2 2 1 2 1 0 2 1 1 2 2 0 2 0 1 2 0 0]\n"
     ]
    },
    {
     "data": {
      "text/plain": [
       "array([[ 8.35600000e+02, -9.00000000e-01,  1.01137500e+03,\n",
       "        -5.65000000e+00,  1.27150000e+02,  8.51325000e+02],\n",
       "       [ 1.63214286e+03,  1.02857143e+01,  1.95342857e+03,\n",
       "        -7.28571429e+00,  3.07500000e+02,  2.29150000e+03],\n",
       "       [ 1.66393333e+03,  1.57777778e+01,  1.89915556e+03,\n",
       "         9.73333333e+00,  1.23911111e+02,  8.12422222e+02]])"
      ]
     },
     "execution_count": 11,
     "metadata": {},
     "output_type": "execute_result"
    }
   ],
   "source": [
    "kmeans3 = KMeans(n_clusters=3)\n",
    "y_kmeans3 = kmeans3.fit_predict(x)\n",
    "print(y_kmeans3)\n",
    "\n",
    "kmeans3.cluster_centers_"
   ]
  },
  {
   "cell_type": "code",
   "execution_count": 12,
   "metadata": {},
   "outputs": [
    {
     "data": {
      "text/plain": [
       "<matplotlib.collections.PathCollection at 0x1b992150630>"
      ]
     },
     "execution_count": 12,
     "metadata": {},
     "output_type": "execute_result"
    },
    {
     "data": {
      "image/png": "[encoded data removed]",
      "text/plain": [
       "<Figure size 432x288 with 1 Axes>"
      ]
     },
     "metadata": {
      "needs_background": "light"
     },
     "output_type": "display_data"
    }
   ],
   "source": [
    "plt.scatter(x[:,4], x[:,5], c=y_kmeans3,cmap='rainbow')"
   ]
  },
  {
   "cell_type": "code",
   "execution_count": null,
   "metadata": {},
   "outputs": [],
   "source": [
    "This is the graph depicting the K-Means = 3 which is obtained by Elbow Method"
   ]
  },
  {
   "cell_type": "markdown",
   "metadata": {},
   "source": [
    "From the analysis we have clustered the data according means and is being depicted using 3 colors."
   ]
  },
  {
   "cell_type": "markdown",
   "metadata": {},
   "source": [
    "#                                 MULTIPLE LINEAR REGRESSION"
   ]
  },
  {
   "cell_type": "code",
   "execution_count": 13,
   "metadata": {},
   "outputs": [
    {
     "name": "stdout",
     "output_type": "stream",
     "text": [
      "                SUMMARY OF THE DATA \n",
      "         year      month        day  sched_dep_time   dep_delay  \\\n",
      "count    99.0  99.000000  99.000000       99.000000   99.000000   \n",
      "mean   2013.0   5.747475  15.919192     1324.757576    8.262626   \n",
      "std       0.0   3.485666   8.887823      499.155963   37.000437   \n",
      "min    2013.0   1.000000   1.000000      515.000000  -11.000000   \n",
      "25%    2013.0   2.000000  10.000000      829.500000   -5.000000   \n",
      "50%    2013.0   5.000000  16.000000     1350.000000   -3.000000   \n",
      "75%    2013.0   9.000000  23.000000     1812.500000    2.000000   \n",
      "max    2013.0  12.000000  31.000000     2155.000000  235.000000   \n",
      "\n",
      "       sched_arr_time   arr_delay       flight    air_time     distance  \n",
      "count       99.000000   99.000000    99.000000   99.000000    99.000000  \n",
      "mean      1548.131313    1.111111  1913.484848  151.181818  1037.303030  \n",
      "std        527.397260   38.698175  1593.206453   79.341083   621.245087  \n",
      "min         43.000000  -53.000000     7.000000   39.000000   187.000000  \n",
      "25%       1050.500000  -19.500000   526.500000  101.000000   615.000000  \n",
      "50%       1624.000000   -9.000000  1545.000000  136.000000   950.000000  \n",
      "75%       2043.000000    5.000000  3316.000000  183.000000  1131.500000  \n",
      "max       2359.000000  221.000000  6101.000000  358.000000  2565.000000  \n",
      "\n",
      "          Air Time\n",
      "\n",
      "Intercept: \n",
      " 97.57273775647322\n",
      "Coefficients: \n",
      " [-0.0542896   0.08108462]\n"
     ]
    }
   ],
   "source": [
    "print(\"                SUMMARY OF THE DATA \")\n",
    "print(data.describe())\n",
    "\n",
    "X = data[['sched_dep_time','sched_arr_time']].astype(float) # here we have 2 input variables for multiple regression. If you just want to use one variable for simple linear regression, then use X = df['Interest_Rate'] for example.Alternatively, you may add additional variables within the brackets\n",
    "Y = data['air_time'].astype(float) # output variable (what we are trying to predict)\n",
    "\n",
    "# with sklearn\n",
    "regr = linear_model.LinearRegression()\n",
    "regr.fit(X, Y)\n",
    "\n",
    "print('\\n          Air Time')\n",
    "print('\\nIntercept: \\n', regr.intercept_)\n",
    "print('Coefficients: \\n', regr.coef_)"
   ]
  },
  {
   "cell_type": "code",
   "execution_count": 14,
   "metadata": {},
   "outputs": [
    {
     "name": "stdout",
     "output_type": "stream",
     "text": [
      "                            OLS Regression Results                            \n",
      "==============================================================================\n",
      "Dep. Variable:                      Y   R-squared:                       0.082\n",
      "Model:                            OLS   Adj. R-squared:                  0.063\n",
      "Method:                 Least Squares   F-statistic:                     4.284\n",
      "Date:                Tue, 31 Mar 2020   Prob (F-statistic):             0.0165\n",
      "Time:                        09:13:41   Log-Likelihood:                -568.74\n",
      "No. Observations:                  99   AIC:                             1143.\n",
      "Df Residuals:                      96   BIC:                             1151.\n",
      "Df Model:                           2                                         \n",
      "Covariance Type:            nonrobust                                         \n",
      "==============================================================================\n",
      "                 coef    std err          t      P>|t|      [0.025      0.975]\n",
      "------------------------------------------------------------------------------\n",
      "Intercept     97.5727     24.069      4.054      0.000      49.795     145.350\n",
      "X[0]          -0.0543      0.033     -1.637      0.105      -0.120       0.012\n",
      "X[1]           0.0811      0.031      2.584      0.011       0.019       0.143\n",
      "==============================================================================\n",
      "Omnibus:                       15.087   Durbin-Watson:                   2.479\n",
      "Prob(Omnibus):                  0.001   Jarque-Bera (JB):               17.092\n",
      "Skew:                           0.997   Prob(JB):                     0.000194\n",
      "Kurtosis:                       3.405   Cond. No.                     6.72e+03\n",
      "==============================================================================\n",
      "\n",
      "Warnings:\n",
      "[1] Standard Errors assume that the covariance matrix of the errors is correctly specified.\n",
      "[2] The condition number is large, 6.72e+03. This might indicate that there are\n",
      "strong multicollinearity or other numerical problems.\n"
     ]
    }
   ],
   "source": [
    "reg = ols(\"Y ~ X\", data=data).fit()\n",
    "print(reg.summary())"
   ]
  },
  {
   "cell_type": "markdown",
   "metadata": {},
   "source": [
    "The Summary of the Regression Model using the OLS Model."
   ]
  },
  {
   "cell_type": "code",
   "execution_count": 15,
   "metadata": {},
   "outputs": [
    {
     "name": "stdout",
     "output_type": "stream",
     "text": [
      "[158.03313696 160.77909683 171.34193135 173.54234503 172.68867793\n",
      " 149.65651311 160.77909683 142.29053271 122.97448106 173.53492569\n",
      " 150.33338418 138.46997379 123.70424261 130.83269339 135.02971782\n",
      " 141.14114505 -15.93470532 125.1674754  147.15539787 155.34621557\n",
      " 160.48380005 151.46598249 142.05077663 136.37199129 152.55162644\n",
      " 136.06261928 131.48137033 164.20648501 178.10057251 139.45956665\n",
      " 149.79048821 167.29490792 137.587413   165.61354142 152.95936008\n",
      " 167.14323203 140.34821155 158.03642285 173.70311515 134.81325899\n",
      " 143.42264335 168.88028725 150.33533485 156.77404677 142.21379342\n",
      " 154.23964884 149.51162089 142.78753375 160.71613678 128.91485671\n",
      " 166.6140514  127.54362566 174.93806054 146.41906453 123.42929685\n",
      " 174.1554085  138.80452982 143.65847786 141.47290286 134.64345853\n",
      " 141.2744206  165.48200465 177.37430874 138.80103204 150.16029783\n",
      " 131.0272541  153.52779996 162.24932518 163.36394692 153.30182312\n",
      " 131.89378898 165.38504213 154.55425741 155.9632006  162.66259138\n",
      " 172.32522821 156.50630846 139.23170303 141.9985857  170.39711007\n",
      " 152.37798852 149.08542301 167.14323203 172.34454    173.07521301\n",
      " 169.33370393 135.63852007 175.45276238 185.7011161  173.48203521\n",
      " 172.20727901 155.1239484  143.70458467 171.81116204 152.39155587\n",
      " 150.68646834 153.52430218 162.76436668 137.8059705 ]\n"
     ]
    }
   ],
   "source": [
    "Y_pred=regr.predict(X)\n",
    "res=data[\"air_time\"]-Y_pred\n",
    "print(Y_pred)"
   ]
  },
  {
   "cell_type": "code",
   "execution_count": 16,
   "metadata": {},
   "outputs": [
    {
     "name": "stdout",
     "output_type": "stream",
     "text": [
      " PREDICTION OF AIR TIME\n",
      "\n",
      "    Actual   Predicted\n",
      "0      144  158.033137\n",
      "1      147  160.779097\n",
      "2      315  171.341931\n",
      "3      221  173.542345\n",
      "4      358  172.688678\n",
      "5      116  149.656513\n",
      "6      200  160.779097\n",
      "7      140  142.290533\n",
      "8      113  122.974481\n",
      "9      138  173.534926\n",
      "10      83  150.333384\n",
      "11     138  138.469974\n",
      "12      48  123.704243\n",
      "13      98  130.832693\n",
      "14     139  135.029718\n",
      "15     153  141.141145\n",
      "16     129  -15.934705\n",
      "17      46  125.167475\n",
      "18     207  147.155398\n",
      "19     108  155.346216\n",
      "20     119  160.483800\n",
      "21      47  151.465982\n",
      "22     167  142.050777\n",
      "23      57  136.371991\n",
      "24     160  152.551626\n",
      "25     161  136.062619\n",
      "26      84  131.481370\n",
      "27      85  164.206485\n",
      "28     346  178.100573\n",
      "29     124  139.459567\n",
      "..     ...         ...\n",
      "69     130  153.301823\n",
      "70     121  131.893789\n",
      "71     135  165.385042\n",
      "72     155  154.554257\n",
      "73     123  155.963201\n",
      "74      39  162.662591\n",
      "75     349  172.325228\n",
      "76      72  156.506308\n",
      "77     140  139.231703\n",
      "78     212  141.998586\n",
      "79     129  170.397110\n",
      "80     151  152.377989\n",
      "81      55  149.085423\n",
      "82      95  167.143232\n",
      "83     319  172.344540\n",
      "84     140  173.075213\n",
      "85     337  169.333704\n",
      "86     114  135.638520\n",
      "87     138  175.452762\n",
      "88     190  185.701116\n",
      "89     322  173.482035\n",
      "90      97  172.207279\n",
      "91     227  155.123948\n",
      "92     106  143.704585\n",
      "93     136  171.811162\n",
      "94     147  152.391556\n",
      "95     308  150.686468\n",
      "96      40  153.524302\n",
      "97     200  162.764367\n",
      "98     189  137.805971\n",
      "\n",
      "[99 rows x 2 columns]\n"
     ]
    }
   ],
   "source": [
    "print(\" PREDICTION OF AIR TIME\\n\")\n",
    "#df = pd.DataFrame({'Actual':data['score'], 'Predicted': y_pred})\n",
    "df = pd.DataFrame({'Actual':data['air_time'], 'Predicted': Y_pred})\n",
    "print(df)"
   ]
  },
  {
   "cell_type": "markdown",
   "metadata": {},
   "source": [
    "The predicted values of Air time is obtained, which is the total time taken by the flight to reach its destination. The predictions obtained are partially similar with a slight increase and decrease from the Actual values. Here, we have taken the Arrival time and the Departure time to calculate the total time taken to reach its destination by fitting the Multiple Linear Regression Model."
   ]
  },
  {
   "cell_type": "code",
   "execution_count": 17,
   "metadata": {},
   "outputs": [
    {
     "name": "stdout",
     "output_type": "stream",
     "text": [
      "                       GRAPH \n"
     ]
    },
    {
     "data": {
      "image/png": "[encoded data removed]",
      "text/plain": [
       "<Figure size 432x288 with 1 Axes>"
      ]
     },
     "metadata": {
      "needs_background": "light"
     },
     "output_type": "display_data"
    }
   ],
   "source": [
    "data.plot(x='month', y='distance', style='o')\n",
    "print(\"                       GRAPH \")\n",
    "plt.xlabel('Month')  \n",
    "plt.ylabel('Distance')\n",
    "plt.show()"
   ]
  },
  {
   "cell_type": "markdown",
   "metadata": {},
   "source": [
    "The graph depicts the distance travelled by the filghts with respect to each month."
   ]
  },
  {
   "cell_type": "markdown",
   "metadata": {},
   "source": [
    "#                                          LINEAR REGRESSION"
   ]
  },
  {
   "cell_type": "code",
   "execution_count": 18,
   "metadata": {},
   "outputs": [
    {
     "name": "stdout",
     "output_type": "stream",
     "text": [
      "Intercept: [1419.83964457]\n",
      "Coefficients: [[-0.19227002]]\n"
     ]
    }
   ],
   "source": [
    "X= data[['flight']].astype(float)\n",
    "y = data['distance'].values.reshape(-1,1)\n",
    "X_train, X_test, y_train, y_test = train_test_split(X, y, test_size=0.2, random_state=0)\n",
    "regressor = LinearRegression()  \n",
    "regressor.fit(X_train, y_train) #training the algorithm\n",
    "\n",
    "print(\"Intercept:\",regressor.intercept_)\n",
    "#For retrieving the slope:\n",
    "print(\"Coefficients:\",regressor.coef_)"
   ]
  },
  {
   "cell_type": "code",
   "execution_count": 19,
   "metadata": {},
   "outputs": [],
   "source": [
    "y_pred = regressor.predict(X_test)"
   ]
  },
  {
   "cell_type": "code",
   "execution_count": 20,
   "metadata": {
    "scrolled": true
   },
   "outputs": [
    {
     "name": "stdout",
     "output_type": "stream",
     "text": [
      "   PREDICTION OF DISTANCE\n",
      "\n",
      "    Actual    Predicted\n",
      "0      544  1018.956662\n",
      "1      733  1336.394458\n",
      "2     2402  1418.493754\n",
      "3     1035   964.159707\n",
      "4     2475  1340.432128\n",
      "5      762   719.207707\n",
      "6     1005  1338.124888\n",
      "7      828  1301.593585\n",
      "8      212   684.599104\n",
      "9     1010  1059.333365\n",
      "10     950  1057.410665\n",
      "11    1372  1063.563305\n",
      "12    1416  1298.709535\n",
      "13     544  1144.316712\n",
      "14    1035   959.352957\n",
      "15     431   564.814884\n",
      "16    1041  1354.275569\n",
      "17     997  1288.326954\n",
      "18     725   980.694928\n",
      "19     719   791.693503\n"
     ]
    }
   ],
   "source": [
    "print(\"   PREDICTION OF DISTANCE\\n\")\n",
    "df = pd.DataFrame({'Actual': y_test.flatten(), 'Predicted': y_pred.flatten()})\n",
    "print(df)"
   ]
  },
  {
   "cell_type": "markdown",
   "metadata": {},
   "source": [
    "The Predicted values of the Distance with respect to Flight number. There occurs an increase in the distance for some flights alone, but decrease of distance occurred in rare cases only. Thus we find there always is an insrease in the Disatnce travelled by the Flights by fitting Linear Regression Model."
   ]
  }
 ],
 "metadata": {
  "kernelspec": {
   "display_name": "Python 3",
   "language": "python",
   "name": "python3"
  },
  "language_info": {
   "codemirror_mode": {
    "name": "ipython",
    "version": 3
   },
   "file_extension": ".py",
   "mimetype": "text/x-python",
   "name": "python",
   "nbconvert_exporter": "python",
   "pygments_lexer": "ipython3",
   "version": "3.7.1"
  }
 },
 "nbformat": 4,
 "nbformat_minor": 4
}
